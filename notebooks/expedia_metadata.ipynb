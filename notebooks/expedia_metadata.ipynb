{
 "cells": [
  {
   "cell_type": "code",
   "execution_count": 1,
   "id": "74409ef1-ecea-446e-89fb-8375ebe31834",
   "metadata": {},
   "outputs": [],
   "source": [
    "import pandas as pd\n",
    "import json\n",
    "import subprocess\n",
    "import os"
   ]
  },
  {
   "cell_type": "code",
   "execution_count": 2,
   "id": "76b4184a-f886-4148-9eda-145a3f8782d2",
   "metadata": {},
   "outputs": [
    {
     "name": "stdout",
     "output_type": "stream",
     "text": [
      "Downloaded metadata to ./dataset-metadata.json\n",
      "Download complete.\n"
     ]
    }
   ],
   "source": [
    "# Retrieve dataset metadata\n",
    "!kaggle datasets metadata -p ./ vijeetnigam26/expedia-hotel\n",
    "print('Download complete.')"
   ]
  },
  {
   "cell_type": "code",
   "execution_count": 3,
   "id": "11859f3a-8e85-4f16-bc92-d5b913e573b4",
   "metadata": {},
   "outputs": [],
   "source": [
    "# Load the metadata JSON file\n",
    "with open('dataset-metadata.json', 'r') as file:\n",
    "    metadata = json.load(file)\n",
    "\n",
    "# Convert the metadata dictionary to a DataFrame\n",
    "metadata_df = pd.DataFrame([metadata])\n",
    "\n",
    "# Export the DataFrame to a CSV file\n",
    "metadata_df.to_csv('metadata.csv', index=False)"
   ]
  },
  {
   "cell_type": "code",
   "execution_count": null,
   "id": "773054ec-643d-43f5-a87a-761e481ad1f7",
   "metadata": {},
   "outputs": [],
   "source": []
  }
 ],
 "metadata": {
  "kernelspec": {
   "display_name": "Python 3 (ipykernel)",
   "language": "python",
   "name": "python3"
  },
  "language_info": {
   "codemirror_mode": {
    "name": "ipython",
    "version": 3
   },
   "file_extension": ".py",
   "mimetype": "text/x-python",
   "name": "python",
   "nbconvert_exporter": "python",
   "pygments_lexer": "ipython3",
   "version": "3.9.13"
  }
 },
 "nbformat": 4,
 "nbformat_minor": 5
}
